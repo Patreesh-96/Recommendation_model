{
 "cells": [
  {
   "cell_type": "code",
   "execution_count": 3,
   "id": "5fc2aae5-e1e5-4539-9ebf-c07e21ab969e",
   "metadata": {},
   "outputs": [],
   "source": [
    "import pandas as pd"
   ]
  },
  {
   "cell_type": "code",
   "execution_count": 7,
   "id": "841c02b7-1dd0-478b-a548-6ca408c3684e",
   "metadata": {},
   "outputs": [],
   "source": [
    "retail_data = pd.read_excel('Online Retail.xlsx')\n"
   ]
  },
  {
   "cell_type": "code",
   "execution_count": 9,
   "id": "55bd293a-55ba-4190-8464-35e5f0a01ea8",
   "metadata": {},
   "outputs": [
    {
     "data": {
      "text/html": [
       "<div>\n",
       "<style scoped>\n",
       "    .dataframe tbody tr th:only-of-type {\n",
       "        vertical-align: middle;\n",
       "    }\n",
       "\n",
       "    .dataframe tbody tr th {\n",
       "        vertical-align: top;\n",
       "    }\n",
       "\n",
       "    .dataframe thead th {\n",
       "        text-align: right;\n",
       "    }\n",
       "</style>\n",
       "<table border=\"1\" class=\"dataframe\">\n",
       "  <thead>\n",
       "    <tr style=\"text-align: right;\">\n",
       "      <th></th>\n",
       "      <th>InvoiceNo</th>\n",
       "      <th>StockCode</th>\n",
       "      <th>Description</th>\n",
       "      <th>Quantity</th>\n",
       "      <th>InvoiceDate</th>\n",
       "      <th>UnitPrice</th>\n",
       "      <th>CustomerID</th>\n",
       "      <th>Country</th>\n",
       "    </tr>\n",
       "  </thead>\n",
       "  <tbody>\n",
       "    <tr>\n",
       "      <th>0</th>\n",
       "      <td>536365</td>\n",
       "      <td>85123A</td>\n",
       "      <td>WHITE HANGING HEART T-LIGHT HOLDER</td>\n",
       "      <td>6</td>\n",
       "      <td>2010-12-01 08:26:00</td>\n",
       "      <td>2.55</td>\n",
       "      <td>17850.0</td>\n",
       "      <td>United Kingdom</td>\n",
       "    </tr>\n",
       "    <tr>\n",
       "      <th>1</th>\n",
       "      <td>536365</td>\n",
       "      <td>71053</td>\n",
       "      <td>WHITE METAL LANTERN</td>\n",
       "      <td>6</td>\n",
       "      <td>2010-12-01 08:26:00</td>\n",
       "      <td>3.39</td>\n",
       "      <td>17850.0</td>\n",
       "      <td>United Kingdom</td>\n",
       "    </tr>\n",
       "    <tr>\n",
       "      <th>2</th>\n",
       "      <td>536365</td>\n",
       "      <td>84406B</td>\n",
       "      <td>CREAM CUPID HEARTS COAT HANGER</td>\n",
       "      <td>8</td>\n",
       "      <td>2010-12-01 08:26:00</td>\n",
       "      <td>2.75</td>\n",
       "      <td>17850.0</td>\n",
       "      <td>United Kingdom</td>\n",
       "    </tr>\n",
       "    <tr>\n",
       "      <th>3</th>\n",
       "      <td>536365</td>\n",
       "      <td>84029G</td>\n",
       "      <td>KNITTED UNION FLAG HOT WATER BOTTLE</td>\n",
       "      <td>6</td>\n",
       "      <td>2010-12-01 08:26:00</td>\n",
       "      <td>3.39</td>\n",
       "      <td>17850.0</td>\n",
       "      <td>United Kingdom</td>\n",
       "    </tr>\n",
       "    <tr>\n",
       "      <th>4</th>\n",
       "      <td>536365</td>\n",
       "      <td>84029E</td>\n",
       "      <td>RED WOOLLY HOTTIE WHITE HEART.</td>\n",
       "      <td>6</td>\n",
       "      <td>2010-12-01 08:26:00</td>\n",
       "      <td>3.39</td>\n",
       "      <td>17850.0</td>\n",
       "      <td>United Kingdom</td>\n",
       "    </tr>\n",
       "  </tbody>\n",
       "</table>\n",
       "</div>"
      ],
      "text/plain": [
       "  InvoiceNo StockCode                          Description  Quantity  \\\n",
       "0    536365    85123A   WHITE HANGING HEART T-LIGHT HOLDER         6   \n",
       "1    536365     71053                  WHITE METAL LANTERN         6   \n",
       "2    536365    84406B       CREAM CUPID HEARTS COAT HANGER         8   \n",
       "3    536365    84029G  KNITTED UNION FLAG HOT WATER BOTTLE         6   \n",
       "4    536365    84029E       RED WOOLLY HOTTIE WHITE HEART.         6   \n",
       "\n",
       "          InvoiceDate  UnitPrice  CustomerID         Country  \n",
       "0 2010-12-01 08:26:00       2.55     17850.0  United Kingdom  \n",
       "1 2010-12-01 08:26:00       3.39     17850.0  United Kingdom  \n",
       "2 2010-12-01 08:26:00       2.75     17850.0  United Kingdom  \n",
       "3 2010-12-01 08:26:00       3.39     17850.0  United Kingdom  \n",
       "4 2010-12-01 08:26:00       3.39     17850.0  United Kingdom  "
      ]
     },
     "execution_count": 9,
     "metadata": {},
     "output_type": "execute_result"
    }
   ],
   "source": [
    "retail_data.head()"
   ]
  },
  {
   "cell_type": "code",
   "execution_count": 13,
   "id": "154b6e8c-6972-4b11-af62-eba4970d3b19",
   "metadata": {},
   "outputs": [],
   "source": [
    "from sklearn.metrics.pairwise import cosine_similarity"
   ]
  },
  {
   "cell_type": "code",
   "execution_count": 21,
   "id": "8751e47d-87f7-4f99-8199-3d81a16b515f",
   "metadata": {},
   "outputs": [
    {
     "name": "stdout",
     "output_type": "stream",
     "text": [
      "\n",
      "Customer-Product Matrix Shape: (4339, 3665)\n"
     ]
    },
    {
     "name": "stdin",
     "output_type": "stream",
     "text": [
      "Enter Customer ID to get product recommendations:  13047\n"
     ]
    },
    {
     "name": "stdout",
     "output_type": "stream",
     "text": [
      "\n",
      "Recommended products for Customer ID 13047:\n",
      "StockCode\n",
      "21899     97.000000\n",
      "21900     94.000000\n",
      "21901     91.000000\n",
      "85123A    58.666667\n",
      "22986     50.000000\n",
      "dtype: float64\n"
     ]
    }
   ],
   "source": [
    "# Data cleaning\n",
    "\n",
    "retail_data.dropna(subset=['CustomerID'], inplace=True)\n",
    "retail_data = retail_data[retail_data['Quantity'] > 0]\n",
    "\n",
    "# customer-product matrix\n",
    "customer_product_matrix = retail_data.pivot_table(index='CustomerID', columns='StockCode', values='Quantity', fill_value=0)\n",
    "\n",
    "print(\"\\nCustomer-Product Matrix Shape:\", customer_product_matrix.shape)\n",
    "\n",
    "customer_similarity = cosine_similarity(customer_product_matrix)\n",
    "\n",
    "customer_similarity_df = pd.DataFrame(customer_similarity, index=customer_product_matrix.index, columns=customer_product_matrix.index)\n",
    "\n",
    "# Recommendation_Function\n",
    "def recommend_products(customer_id, num_recommendations=5):\n",
    "    if customer_id not in customer_similarity_df.index:\n",
    "        return f\"Customer ID {customer_id} not found in the dataset.\"\n",
    "    \n",
    "    similar_scores = customer_similarity_df[customer_id]\n",
    "    \n",
    "    similar_customers = similar_scores.nlargest(num_recommendations + 1).index[1:]  # Exclude the customer itself\n",
    "\n",
    "    similar_customers_products = customer_product_matrix.loc[similar_customers]\n",
    "\n",
    "    recommended_products = similar_customers_products.sum(axis=0)\n",
    "\n",
    "    recommended_products = recommended_products.sort_values(ascending=False)\n",
    "\n",
    "    return recommended_products.head(num_recommendations)\n",
    "\n",
    "try:\n",
    "    customer_id_input = int(input(\"Enter Customer ID to get product recommendations: \"))\n",
    "    recommended_products = recommend_products(customer_id_input)\n",
    "\n",
    "    print(f\"\\nRecommended products for Customer ID {customer_id_input}:\\n{recommended_products}\")\n",
    "except ValueError:\n",
    "    print(\"Please enter a valid numeric Customer ID.\")"
   ]
  },
  {
   "cell_type": "code",
   "execution_count": null,
   "id": "baf24e73-f1ec-4cd8-a84e-c8501121db80",
   "metadata": {},
   "outputs": [],
   "source": []
  }
 ],
 "metadata": {
  "kernelspec": {
   "display_name": "Python 3 (ipykernel)",
   "language": "python",
   "name": "python3"
  },
  "language_info": {
   "codemirror_mode": {
    "name": "ipython",
    "version": 3
   },
   "file_extension": ".py",
   "mimetype": "text/x-python",
   "name": "python",
   "nbconvert_exporter": "python",
   "pygments_lexer": "ipython3",
   "version": "3.12.4"
  }
 },
 "nbformat": 4,
 "nbformat_minor": 5
}
